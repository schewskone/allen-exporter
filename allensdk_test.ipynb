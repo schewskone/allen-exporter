{
 "cells": [
  {
   "cell_type": "code",
   "execution_count": 2,
   "id": "cdbd8582-fce2-4af1-8220-2eb368ca09e5",
   "metadata": {},
   "outputs": [
    {
     "name": "stdout",
     "output_type": "stream",
     "text": [
      "Import confirmed\n"
     ]
    }
   ],
   "source": [
    "import allensdk\n",
    "import matplotlib.pyplot as plt\n",
    "import numpy as np\n",
    "import pandas as pd\n",
    "\n",
    "print(\"Import confirmed\")"
   ]
  },
  {
   "cell_type": "code",
   "execution_count": null,
   "id": "ca1bc28a-1e73-4810-a2b0-d55f4a2ef79d",
   "metadata": {},
   "outputs": [],
   "source": []
  }
 ],
 "metadata": {
  "kernelspec": {
   "display_name": "Python 3 (ipykernel)",
   "language": "python",
   "name": "python3"
  },
  "language_info": {
   "codemirror_mode": {
    "name": "ipython",
    "version": 3
   },
   "file_extension": ".py",
   "mimetype": "text/x-python",
   "name": "python",
   "nbconvert_exporter": "python",
   "pygments_lexer": "ipython3",
   "version": "3.10.15"
  }
 },
 "nbformat": 4,
 "nbformat_minor": 5
}
